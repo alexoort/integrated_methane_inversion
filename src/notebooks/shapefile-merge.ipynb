{
 "cells": [
  {
   "cell_type": "code",
   "execution_count": 1,
   "metadata": {},
   "outputs": [
    {
     "data": {
      "text/html": [
       "<div>\n",
       "<style scoped>\n",
       "    .dataframe tbody tr th:only-of-type {\n",
       "        vertical-align: middle;\n",
       "    }\n",
       "\n",
       "    .dataframe tbody tr th {\n",
       "        vertical-align: top;\n",
       "    }\n",
       "\n",
       "    .dataframe thead th {\n",
       "        text-align: right;\n",
       "    }\n",
       "</style>\n",
       "<table border=\"1\" class=\"dataframe\">\n",
       "  <thead>\n",
       "    <tr style=\"text-align: right;\">\n",
       "      <th></th>\n",
       "      <th>GID_0</th>\n",
       "      <th>COUNTRY</th>\n",
       "      <th>geometry</th>\n",
       "    </tr>\n",
       "  </thead>\n",
       "  <tbody>\n",
       "    <tr>\n",
       "      <th>0</th>\n",
       "      <td>IND</td>\n",
       "      <td>India</td>\n",
       "      <td>MULTIPOLYGON (((76.97542 8.38514, 76.97486 8.3...</td>\n",
       "    </tr>\n",
       "    <tr>\n",
       "      <th>1</th>\n",
       "      <td>Z01</td>\n",
       "      <td>India</td>\n",
       "      <td>POLYGON ((75.07161 32.48296, 75.06268 32.48213...</td>\n",
       "    </tr>\n",
       "    <tr>\n",
       "      <th>2</th>\n",
       "      <td>Z04</td>\n",
       "      <td>India</td>\n",
       "      <td>POLYGON ((78.65135 32.09228, 78.65241 32.08826...</td>\n",
       "    </tr>\n",
       "    <tr>\n",
       "      <th>3</th>\n",
       "      <td>Z05</td>\n",
       "      <td>India</td>\n",
       "      <td>POLYGON ((80.08794 30.79071, 80.08796 30.79026...</td>\n",
       "    </tr>\n",
       "    <tr>\n",
       "      <th>4</th>\n",
       "      <td>Z07</td>\n",
       "      <td>India</td>\n",
       "      <td>POLYGON ((94.19125 27.49632, 94.18690 27.49081...</td>\n",
       "    </tr>\n",
       "    <tr>\n",
       "      <th>5</th>\n",
       "      <td>Z09</td>\n",
       "      <td>India</td>\n",
       "      <td>POLYGON ((78.90891 31.25886, 78.91309 31.26072...</td>\n",
       "    </tr>\n",
       "  </tbody>\n",
       "</table>\n",
       "</div>"
      ],
      "text/plain": [
       "  GID_0 COUNTRY                                           geometry\n",
       "0   IND   India  MULTIPOLYGON (((76.97542 8.38514, 76.97486 8.3...\n",
       "1   Z01   India  POLYGON ((75.07161 32.48296, 75.06268 32.48213...\n",
       "2   Z04   India  POLYGON ((78.65135 32.09228, 78.65241 32.08826...\n",
       "3   Z05   India  POLYGON ((80.08794 30.79071, 80.08796 30.79026...\n",
       "4   Z07   India  POLYGON ((94.19125 27.49632, 94.18690 27.49081...\n",
       "5   Z09   India  POLYGON ((78.90891 31.25886, 78.91309 31.26072..."
      ]
     },
     "execution_count": 1,
     "metadata": {},
     "output_type": "execute_result"
    }
   ],
   "source": [
    "import geopandas as gpd\n",
    "\n",
    "india_shapefile = gpd.read_file(\"/home/ubuntu/integrated_methane_inversion/resources/shapefiles/India_shapefile/gadm41_IND_0.shp\")\n",
    "bangladesh_shapefile = gpd.read_file(\"/home/ubuntu/integrated_methane_inversion/resources/shapefiles/Bangladesh_shapefile/gadm41_BGD_0.shp\")\n",
    "\n",
    "\n",
    "india_shapefile\n"
   ]
  },
  {
   "cell_type": "code",
   "execution_count": 2,
   "metadata": {},
   "outputs": [
    {
     "data": {
      "text/html": [
       "<div>\n",
       "<style scoped>\n",
       "    .dataframe tbody tr th:only-of-type {\n",
       "        vertical-align: middle;\n",
       "    }\n",
       "\n",
       "    .dataframe tbody tr th {\n",
       "        vertical-align: top;\n",
       "    }\n",
       "\n",
       "    .dataframe thead th {\n",
       "        text-align: right;\n",
       "    }\n",
       "</style>\n",
       "<table border=\"1\" class=\"dataframe\">\n",
       "  <thead>\n",
       "    <tr style=\"text-align: right;\">\n",
       "      <th></th>\n",
       "      <th>GID_0</th>\n",
       "      <th>COUNTRY</th>\n",
       "      <th>geometry</th>\n",
       "    </tr>\n",
       "  </thead>\n",
       "  <tbody>\n",
       "    <tr>\n",
       "      <th>0</th>\n",
       "      <td>IND</td>\n",
       "      <td>India</td>\n",
       "      <td>MULTIPOLYGON (((76.97542 8.38514, 76.97486 8.3...</td>\n",
       "    </tr>\n",
       "    <tr>\n",
       "      <th>1</th>\n",
       "      <td>Z01</td>\n",
       "      <td>India</td>\n",
       "      <td>POLYGON ((75.07161 32.48296, 75.06268 32.48213...</td>\n",
       "    </tr>\n",
       "    <tr>\n",
       "      <th>2</th>\n",
       "      <td>Z04</td>\n",
       "      <td>India</td>\n",
       "      <td>POLYGON ((78.65135 32.09228, 78.65241 32.08826...</td>\n",
       "    </tr>\n",
       "    <tr>\n",
       "      <th>3</th>\n",
       "      <td>Z05</td>\n",
       "      <td>India</td>\n",
       "      <td>POLYGON ((80.08794 30.79071, 80.08796 30.79026...</td>\n",
       "    </tr>\n",
       "    <tr>\n",
       "      <th>4</th>\n",
       "      <td>Z07</td>\n",
       "      <td>India</td>\n",
       "      <td>POLYGON ((94.19125 27.49632, 94.18690 27.49081...</td>\n",
       "    </tr>\n",
       "    <tr>\n",
       "      <th>5</th>\n",
       "      <td>Z09</td>\n",
       "      <td>India</td>\n",
       "      <td>POLYGON ((78.90891 31.25886, 78.91309 31.26072...</td>\n",
       "    </tr>\n",
       "    <tr>\n",
       "      <th>0</th>\n",
       "      <td>BGD</td>\n",
       "      <td>Bangladesh</td>\n",
       "      <td>MULTIPOLYGON (((92.33389 20.79194, 92.33361 20...</td>\n",
       "    </tr>\n",
       "  </tbody>\n",
       "</table>\n",
       "</div>"
      ],
      "text/plain": [
       "  GID_0     COUNTRY                                           geometry\n",
       "0   IND       India  MULTIPOLYGON (((76.97542 8.38514, 76.97486 8.3...\n",
       "1   Z01       India  POLYGON ((75.07161 32.48296, 75.06268 32.48213...\n",
       "2   Z04       India  POLYGON ((78.65135 32.09228, 78.65241 32.08826...\n",
       "3   Z05       India  POLYGON ((80.08794 30.79071, 80.08796 30.79026...\n",
       "4   Z07       India  POLYGON ((94.19125 27.49632, 94.18690 27.49081...\n",
       "5   Z09       India  POLYGON ((78.90891 31.25886, 78.91309 31.26072...\n",
       "0   BGD  Bangladesh  MULTIPOLYGON (((92.33389 20.79194, 92.33361 20..."
      ]
     },
     "execution_count": 2,
     "metadata": {},
     "output_type": "execute_result"
    }
   ],
   "source": [
    "india = india_shapefile.to_crs('EPSG:4326')\n",
    "bangladesh = bangladesh_shapefile.to_crs('EPSG:4326')\n",
    "\n",
    "india_bangladesh = gpd.pd.concat([india, bangladesh])\n",
    "\n",
    "india_bangladesh"
   ]
  },
  {
   "cell_type": "code",
   "execution_count": 2,
   "metadata": {},
   "outputs": [],
   "source": [
    "test = india_bangladesh.to_file(\"/home/ubuntu/integrated_methane_inversion/resources/shapefiles/india_bangladesh.shp\")\n",
    "\n"
   ]
  }
 ],
 "metadata": {
  "kernelspec": {
   "display_name": "geo",
   "language": "python",
   "name": "python3"
  },
  "language_info": {
   "codemirror_mode": {
    "name": "ipython",
    "version": 3
   },
   "file_extension": ".py",
   "mimetype": "text/x-python",
   "name": "python",
   "nbconvert_exporter": "python",
   "pygments_lexer": "ipython3",
   "version": "3.9.7"
  },
  "orig_nbformat": 4,
  "vscode": {
   "interpreter": {
    "hash": "2197905926ce81412a4436b46fdd83d579093c5a57e74c6d1c6aad907d47f476"
   }
  }
 },
 "nbformat": 4,
 "nbformat_minor": 2
}
